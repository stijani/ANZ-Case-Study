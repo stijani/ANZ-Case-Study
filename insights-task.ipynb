{
 "cells": [
  {
   "cell_type": "markdown",
   "metadata": {},
   "source": [
    "## Insights Task"
   ]
  },
  {
   "cell_type": "code",
   "execution_count": 1,
   "metadata": {},
   "outputs": [],
   "source": [
    "from util import read_data_to_pandas, customized_plot, group_count_unstack\n",
    "import matplotlib.pyplot as plt\n",
    "import numpy as np\n",
    "import statsmodels.api as sm \n",
    "import scipy.stats as stats"
   ]
  },
  {
   "cell_type": "code",
   "execution_count": 2,
   "metadata": {},
   "outputs": [],
   "source": [
    "DATA_PATH = 'http://www9.health.gov.au/cda/source/display_doc.cfm?DocID=1'"
   ]
  },
  {
   "cell_type": "markdown",
   "metadata": {},
   "source": [
    "### Question 1: What can you tell us about this dataset? "
   ]
  },
  {
   "cell_type": "code",
   "execution_count": null,
   "metadata": {},
   "outputs": [],
   "source": [
    "data = read_data_to_pandas(DATA_PATH)\n",
    "print('Observations: {}, Fields: {}'. format(data.shape[0], data.shape[1]))\n",
    "data.head()"
   ]
  },
  {
   "cell_type": "markdown",
   "metadata": {},
   "source": [
    "The data set contains a total of `681254` observation across `6` fields - `Week Ending (Friday)`, `State`, `Age  group`, `Sex`, `Indigenous status`, and `Type/Subtype`. For summary ananlysis as below, I grouped the observations by date i.e the `Week Ending (Friday)` field.  "
   ]
  },
  {
   "cell_type": "code",
   "execution_count": null,
   "metadata": {},
   "outputs": [],
   "source": [
    "data_temp = data.copy()\n",
    "weekly_flu_count = data_temp.groupby(['Week Ending (Friday)']).size()"
   ]
  },
  {
   "cell_type": "code",
   "execution_count": null,
   "metadata": {},
   "outputs": [],
   "source": [
    "weekly_flu_count.describe()"
   ]
  },
  {
   "cell_type": "markdown",
   "metadata": {},
   "source": [
    "**Summary Statistics**<br>\n",
    "After grouping, we have a total of `523` data points within the period in review (`Jan. 2008 - Jan. 2018`). The maximum and mininmum case counts were `24004` and `15` respectively. Weekly average Flu case count was approximately `1303` with standard deviation of `~3017`. This is a highly varied data set considering the standard deviation and the min/max values."
   ]
  },
  {
   "cell_type": "code",
   "execution_count": null,
   "metadata": {},
   "outputs": [],
   "source": [
    "weekly_flu_count.plot(kind='hist', bins=20, \n",
    "                      figsize=(10,5),\n",
    "                      title='Weekly Flu Count Distribution - Nationwide',\n",
    "                     )"
   ]
  },
  {
   "cell_type": "markdown",
   "metadata": {},
   "source": [
    "**Destribution** <br>\n",
    "Referencing, the histogram plot above, this is an highly skew data with most of the weekly count values recorded ranging between `0` and `5000`."
   ]
  },
  {
   "cell_type": "code",
   "execution_count": null,
   "metadata": {},
   "outputs": [],
   "source": [
    "weekly_flu_count.plot(title='Flu Record Trend: 2008 - 2018', \n",
    "               xlabel='Nation Wide Count', \n",
    "               ylabel='Time Period',\n",
    "               figsize=(10,5))"
   ]
  },
  {
   "cell_type": "markdown",
   "metadata": {},
   "source": [
    "**Seasonality**<br>\n",
    "The chart above is the plot of the sum of weekly counts across all Australia states. It shows a slight upward trend and an approximately `12` month seasonal period."
   ]
  },
  {
   "cell_type": "markdown",
   "metadata": {},
   "source": [
    "### Question 2: Which state and age group has the most flu cases over the years and did the trend change?"
   ]
  },
  {
   "cell_type": "markdown",
   "metadata": {},
   "source": [
    "Adding year column. This will aid further summarization of the data and help in generation clearer charts"
   ]
  },
  {
   "cell_type": "code",
   "execution_count": null,
   "metadata": {},
   "outputs": [],
   "source": [
    "data['Year'] = data['Week Ending (Friday)'].apply(lambda x: str(x).split('-')[0])\n",
    "data.head()"
   ]
  },
  {
   "cell_type": "code",
   "execution_count": null,
   "metadata": {},
   "outputs": [],
   "source": [
    "customized_plot(group_count_unstack(data, 'Week Ending (Friday)', 'State', 'State'), \n",
    "                title='Flu Record Trend: 2008 - 2018, Grouped by State - Weekly Counts', \n",
    "                xlabel='Time Period',\n",
    "                ylabel='State Wide Count - Weekly')\n",
    "\n",
    "customized_plot(group_count_unstack(data, 'Year', 'State', 'State'), \n",
    "                title='Flu Record Trend: 2008 - 2018, Grouped by State - Yearly - Counts', \n",
    "                xlabel='Time Period',\n",
    "                ylabel='State Wide Count - Yearly')"
   ]
  },
  {
   "cell_type": "code",
   "execution_count": null,
   "metadata": {},
   "outputs": [],
   "source": [
    "customized_plot(group_count_unstack(data, 'Week Ending (Friday)', 'Age  group', 'Age  group'), \n",
    "                title='Flu Record Trend: 2008 - 2018, Grouped by Age Group - Weekly Count', \n",
    "                xlabel='Time Period',\n",
    "                ylabel='Age Wise Count')\n",
    "\n",
    "customized_plot(group_count_unstack(data, 'Year', 'Age  group', 'Age  group'), \n",
    "                title='Flu Record Trend: 2008 - 2018, Grouped by Age Group - Yearly Count', \n",
    "                xlabel='Time Period',\n",
    "                ylabel='Age Wise Count')"
   ]
  },
  {
   "cell_type": "markdown",
   "metadata": {},
   "source": [
    "### Answer\n",
    "According to the State wide plot shown above, untill around the end of 2012, Queensland (QLD) used to be the state with the most flu cases. <br>\n",
    "The trend changed and NSW started leading in the chart from around the begining of 2013. \n",
    "\n",
    "The Age Group with the highest Flu cases mostly alternated between the `00-04` and `05-09` age groups over the 10 full year period (2008 - 2017)."
   ]
  },
  {
   "cell_type": "markdown",
   "metadata": {},
   "source": [
    "### Question 3: Which flu type or subtype is most serious in Australia? "
   ]
  },
  {
   "cell_type": "code",
   "execution_count": null,
   "metadata": {},
   "outputs": [],
   "source": [
    "customized_plot(group_count_unstack(data, 'Week Ending (Friday)', 'Type/Subtype', 'Type/Subtype'), \n",
    "                title='Flu Record Trend: 2008 - 2018, Grouped by Type/Subtype - Weekly Count', \n",
    "                xlabel='Time Period',\n",
    "                ylabel='Flu Type/Subtype Count')\n",
    "\n",
    "customized_plot(group_count_unstack(data, 'Year', 'Type/Subtype', 'Type/Subtype'), \n",
    "                title='Flu Record Trend: 2008 - 2018, Grouped by Type/Subtype - Yearly Count', \n",
    "                xlabel='Time Period',\n",
    "                ylabel='Flu Type/Subtype Count')"
   ]
  },
  {
   "cell_type": "markdown",
   "metadata": {},
   "source": [
    "### Answer\n",
    "The A(H1N1)pdm09 Flu type was the most wide spread in Australia prior to 2010. The trend changed around the begining of 2010 leaving the A(unsubtyped) as the most serious Flu in the country untill 2018. There was a surge in the B Flu type between the end of 2014 and the begining of 2015, but this only lasted a short while before the A(unsubtyped) tookover again."
   ]
  },
  {
   "cell_type": "markdown",
   "metadata": {},
   "source": [
    "### Question 4: Does female and male get affected by flu differently?"
   ]
  },
  {
   "cell_type": "code",
   "execution_count": null,
   "metadata": {},
   "outputs": [],
   "source": [
    "customized_plot(group_count_unstack(data, 'Week Ending (Friday)', 'Sex', 'Sex'), \n",
    "                title='Flu Record Trend: 2008 - 2018, Grouped by Sex - Weekly Count', \n",
    "                xlabel='Time Period',\n",
    "                ylabel='Flu Count by Sex')\n",
    "\n",
    "customized_plot(group_count_unstack(data, 'Year', 'Sex', 'Sex'), \n",
    "                title='Flu Record Trend: 2008 - 2018, Grouped by Sex - Yearly Count', \n",
    "                xlabel='Time Period',\n",
    "                ylabel='Flu by Sex')\n",
    "\n",
    "group_count_unstack(data, 'Week Ending (Friday)', 'Sex', 'Sex').hist()"
   ]
  },
  {
   "cell_type": "markdown",
   "metadata": {},
   "source": [
    "**Statistical testing**<br>\n",
    "\n",
    "Going by the plots above, it looks like there's no significant difference in the distribution of flu cases for Male and Female. Although the numbers are consitenly higher (slightly) for Female than Male for the whole period. A statitical (A/B) test will shed more light on this. Hypothesis - **there is signifcant difference in the distributions Flu among the Male and Female groups**."
   ]
  },
  {
   "cell_type": "code",
   "execution_count": null,
   "metadata": {},
   "outputs": [],
   "source": [
    "data_groupedby_sex = group_count_unstack(data, 'Week Ending (Friday)', 'Sex', 'Sex')\n",
    "data_groupedby_sex.reset_index(drop=True, inplace=True)\n",
    "\n",
    "#get the female and male data as series\n",
    "female_series = data_groupedby_sex.loc[:, 'Female']\n",
    "male_series = data_groupedby_sex.loc[:, 'Male']\n",
    "\n",
    "#let's see the difference in there means\n",
    "f_mean, m_mean = np.mean(female_series), np.mean(male_series)\n",
    "print('The Female and Male series means are {} and {}, the difference is: {}'.format(f_mean, m_mean, f_mean-m_mean))\n",
    "\n",
    "#t-testing\n",
    "print('\\n', stats.ttest_ind(female_series, male_series))"
   ]
  },
  {
   "cell_type": "markdown",
   "metadata": {},
   "source": [
    "**Conclusion:** <br>\n",
    "Going by the `tvalue` (~`1.13`), the probalility of getting this figure or higher without a difference between the male and female distribution is `1/4` (the pvalue). This shows that the null-hypthothesis is significant - we cannot conviniently say that flu affects the male and female genders differently."
   ]
  },
  {
   "cell_type": "markdown",
   "metadata": {},
   "source": [
    "### Question 5: Is state, sex, indigenous status or age a driver for flu?"
   ]
  },
  {
   "cell_type": "code",
   "execution_count": null,
   "metadata": {},
   "outputs": [],
   "source": [
    "customized_plot(group_count_unstack(data, 'Week Ending (Friday)', 'Indigenous status', 'Indigenous status'), \n",
    "                title='Flu Record Trend: 2008 - 2018, Grouped by Indigenous status - Weekly Count', \n",
    "                xlabel='Time Period',\n",
    "                ylabel='Flu Count by Indigenous status')\n",
    "\n",
    "customized_plot(group_count_unstack(data, 'Year', 'Indigenous status', 'Indigenous status'), \n",
    "                title='Flu Record Trend: 2008 - 2018, Grouped by Indigenous status - Yearly Count', \n",
    "                xlabel='Time Period',\n",
    "                ylabel='Flu Count by Indigenous status')"
   ]
  },
  {
   "cell_type": "markdown",
   "metadata": {},
   "source": [
    "### Answer:"
   ]
  },
  {
   "cell_type": "markdown",
   "metadata": {},
   "source": [
    "- **State:** The number of reported flu cases within the period in this data were highly influenced by state, with QLD and NSW playing dominant roles. We can conclude that State is a driver for flu in Australia\n",
    "- **Age:** The age groups `00-04` and `05-09` contributed most of the flus cases within the reviewed period. Therefore, age is a driver for flu in Australia for this period. \n",
    "- **Sex:** The dominance classes in Sex are Male and Female. As shown in the A/B test above, there's no statical difference in the distrubtion of these two classes over the period in review. Therefore we can say that Sex is not a driver flu.\n",
    "- **Indegenous Status:** Majority of the cases either do not have Indegenous Status reported or were not know. Therefore we cannot determine with the current data if indegous status is a driver for flu in Australia.\n",
    "\n",
    "**PS:** The conclusions and overall analysis are limited to the period of Jan. 2008 and Jan. 2018"
   ]
  }
 ],
 "metadata": {
  "kernelspec": {
   "display_name": "machine-learning",
   "language": "python",
   "name": "machine-learning"
  },
  "language_info": {
   "codemirror_mode": {
    "name": "ipython",
    "version": 3
   },
   "file_extension": ".py",
   "mimetype": "text/x-python",
   "name": "python",
   "nbconvert_exporter": "python",
   "pygments_lexer": "ipython3",
   "version": "3.8.5"
  }
 },
 "nbformat": 4,
 "nbformat_minor": 4
}
